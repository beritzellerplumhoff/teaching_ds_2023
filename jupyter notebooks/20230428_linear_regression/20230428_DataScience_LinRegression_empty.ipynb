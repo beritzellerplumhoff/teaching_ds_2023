{
 "cells": [
  {
   "cell_type": "markdown",
   "id": "73bb198a",
   "metadata": {},
   "source": [
    "## 28.04.2023 Linear regression\n",
    "\n",
    "Copyright (C) 2023, B. Zeller-Plumhoff\n",
    "\n",
    "This program is free software: you can redistribute it and/or modify it under the terms of the GNU General Public License as published by the Free Software Foundation, either version 3 of the License, or (at your option) any later version.\n",
    "\n",
    "This program is distributed in the hope that it will be useful, but WITHOUT ANY WARRANTY; without even the implied warranty of MERCHANTABILITY or FITNESS FOR A PARTICULAR PURPOSE. See the [GNU General Public License](https://www.gnu.org/licenses/gpl-3.0.html) for more details."
   ]
  },
  {
   "cell_type": "markdown",
   "id": "c880dfe6",
   "metadata": {},
   "source": [
    "In this notebook, you will write functions to read data sets into a pandas data frame, display the data using matplotlib and plotly and then apply linear regression to estimate the Young's modulus of the material.\n",
    "\n",
    "The data and code in the first part of the jupyter notebook (Young's modulus) is based on that published by Michael N Sakano, Saaketh Desai and Alejandro Strachan from Purdue University on [nanoHUB](https://nanohub.org/tools/youngsmod) under the GNU General Public License version 3. It was adapted by Berit Zeller-Plumhoff for the course Data Science for Materials Scientists at Kiel University. The modifications include shortening of the jupyter notebook, adding comments and rephrasing text passages."
   ]
  },
  {
   "cell_type": "markdown",
   "id": "bc8a243e",
   "metadata": {},
   "source": [
    "### Libraries\n",
    "\n",
    "We begin by loading the libraries required to perform the requires tasks. These include:\n",
    "1. [Pandas](https://pandas.pydata.org/) to load and organize the data\n",
    "2. [Scikit-learn](https://scikit-learn.org/stable/modules/generated/sklearn.linear_model.LinearRegression.html) to apply the linear regression model\n",
    "3. [Matplotlib](https://matplotlib.org/) and [plotly](https://plotly.com/python/) for plotting the data"
   ]
  },
  {
   "cell_type": "code",
   "execution_count": 1,
   "id": "beff7057",
   "metadata": {},
   "outputs": [],
   "source": [
    "import pandas as pd # This library is for developing data structures in the form of tables\n",
    "import numpy as np # This library is for scientific operations and data manipulation in matrices\n",
    "from sklearn import datasets, linear_model # This library helps to develop the linear model\n",
    "from sklearn.metrics import mean_squared_error # This library adds error metrics to our model\n",
    "\n",
    "import matplotlib.pyplot as plt # This library is for visualizing the curves\n",
    "import plotly.express as px #This library is for visualizing advanced graphics\n",
    "import plotly.graph_objs as go # This library is the graphical object for plotly"
   ]
  },
  {
   "cell_type": "markdown",
   "id": "fa2f526d",
   "metadata": {},
   "source": [
    "### Data\n",
    "\n",
    "This notebook is set up to deal with data contained in .csv files and organized in two columns, namely strain and stress (in MPa).\n",
    "\n",
    "We will begin by loading the dataset provided on nanohub, which is based on Hollomon, J. H. Tensile Stress-Strain Curves of a 70-30 Brass. (1944)."
   ]
  },
  {
   "cell_type": "code",
   "execution_count": null,
   "id": "c0e2c401",
   "metadata": {},
   "outputs": [],
   "source": [
    "# Set the name of the data file, which should be organized in two columns,\n",
    "# with strain in column 1 and stress in column 2.\n",
    "# The .csv file should be in the same folder as the jupyter notebook, \n",
    "# otherwise, you need to adjust the filename\n",
    "filename = \n",
    "\n",
    "# load the data from the .csv into the data variable, which is a pandas\n",
    "# dataframe\n",
    "data = \n",
    "\n",
    "# display the \"head\" (first five rows) of the dataframe\n",
    "# try different commands of displaying the dataframe, \n",
    "# e.g. data, data.tail()\n",
    "data.head()"
   ]
  },
  {
   "cell_type": "markdown",
   "id": "9f92ba7a",
   "metadata": {},
   "source": [
    "There are different ways in which you can work with the data in the pandas dataframe. You can assign different columns to variables or continue working with the dataframe itself.\n",
    "\n",
    "Create two variables, named strain and stress and assign the respective dataframe columns to these. Additionally, transform the strain so that the variable contains the values in %. To double check the assignment print the first 5 values of both variables."
   ]
  },
  {
   "cell_type": "code",
   "execution_count": null,
   "id": "93894468",
   "metadata": {},
   "outputs": [],
   "source": [
    "strain = \n",
    "stress = "
   ]
  },
  {
   "cell_type": "markdown",
   "id": "5215d4f1",
   "metadata": {},
   "source": [
    "### Plotting\n",
    "\n",
    "Since we have now loaded the data, you can visualize it using matplotlib or plotly. The advantage of plotly is the interactiveness of the resulting plot.\n",
    "\n",
    "Display the stress-strain curve of the loaded data, including axes labels and a figure title"
   ]
  },
  {
   "cell_type": "code",
   "execution_count": null,
   "id": "bb0c58f7",
   "metadata": {},
   "outputs": [],
   "source": []
  },
  {
   "cell_type": "markdown",
   "id": "77ccf218",
   "metadata": {},
   "source": [
    "Based on the data, decide on the maximum strain defining the linear regime of deformation. Based on this region, you will fit a linear curve to the data to determine the Young's modulus of the material. \n",
    "Automatically find the final array index of the strain variable pertaining to this maximum strain using the [numpy where](https://numpy.org/doc/stable/reference/generated/numpy.where.html) function."
   ]
  },
  {
   "cell_type": "code",
   "execution_count": null,
   "id": "02eacc31",
   "metadata": {},
   "outputs": [],
   "source": [
    "# insert the maximum strain you wish to include in the fitting for the\n",
    "# Young's modulus based on the graph above\n",
    "max_strain = \n",
    "\n",
    "# us the numpy where function to define the maximum index of the variable\n",
    "# to include\n",
    "max_index = "
   ]
  },
  {
   "cell_type": "markdown",
   "id": "98169dff",
   "metadata": {},
   "source": [
    "### Linear regression\n",
    "\n",
    "Based on the determined range, assign the strain and stress for training to the variables x_train and y_train. You need to be careful to check what input format the linear regression model based on the scikit-learn library requires. It should be a numpy 2D array, ultimately."
   ]
  },
  {
   "cell_type": "code",
   "execution_count": null,
   "id": "2f728298",
   "metadata": {},
   "outputs": [],
   "source": [
    "x_train=\n",
    "y_train="
   ]
  },
  {
   "cell_type": "markdown",
   "id": "9a97ed47",
   "metadata": {},
   "source": [
    "Following the definition of your training data, you will now write a function that uses that data to train a linear regression model based on the [scikit-learn library](https://scikit-learn.org/stable/modules/generated/sklearn.linear_model.LinearRegression.html). The function should take your training data as input and output the parameters of the fitted model, as well as the fitted stress values."
   ]
  },
  {
   "cell_type": "code",
   "execution_count": null,
   "id": "54eabc49",
   "metadata": {},
   "outputs": [],
   "source": [
    "def regression(X_train, Y_train):\n",
    "    \n",
    "    # Define the model using linear_model and LinearRegression from Scikit_learn\n",
    "    model = \n",
    "    # train the model using .fit\n",
    "    model.fit()\n",
    "        \n",
    "    # Use the model to predict the entire set of data using .predict\n",
    "    predictions = model.predict() \n",
    "    \n",
    "    # return the predictions and the fitted model\n",
    "    return "
   ]
  },
  {
   "cell_type": "markdown",
   "id": "866da806",
   "metadata": {},
   "source": [
    "Apply the function you have just defined to your data. Based on the predictions, determine the mean squared error of the predictions and print the linear function as well as the error."
   ]
  },
  {
   "cell_type": "code",
   "execution_count": null,
   "id": "fd412419",
   "metadata": {},
   "outputs": [],
   "source": [
    "predictions, model = \n",
    "\n",
    "# Print model and mean squared error and variance score\n"
   ]
  },
  {
   "cell_type": "markdown",
   "id": "472d8f92",
   "metadata": {},
   "source": [
    "Plot the original experimental data, the training data and the linear model predictions in one plot with different colours, adding a legend."
   ]
  },
  {
   "cell_type": "code",
   "execution_count": null,
   "id": "30783986",
   "metadata": {},
   "outputs": [],
   "source": []
  },
  {
   "cell_type": "markdown",
   "id": "7269bdcf",
   "metadata": {},
   "source": [
    "Calculate and print the Young's modulus of the material in GPa, and cross-check your computed value with the published literature. \n",
    "\n",
    "Now repeat the above with different thresholds for the maximum strain and evaluate how your linear model and Young's modulus change with different values. Repeat the workflow for the additional Brass_grainsize_0_020mm.csv and Brass_grainsize_0_025mm.csv files to assess how the Young's modulus changes with grain size - these are 0.015, 0.02 and 0.025 mm, respectively."
   ]
  },
  {
   "cell_type": "markdown",
   "id": "bfa5fe98",
   "metadata": {},
   "source": [
    "## Polynomial regression\n",
    "\n",
    "Following the linear regression example above, you should now implement a polynomial regression, which is is a more general case of the linear regression where features of the form $x^d \\,, d\\in \\mathbb{N}$ may be included. We will use an example that determines the radius of gyration $R_g$ for a set of small angle X-ray scattering data. The radius of gyration is the average electron density weighted square distance of scatterers from the centre of the object. It is related to the dimensions of certain well-defined shapes, such as spheres and ellipses, but different structures can exhibit the same $R_g$.\n",
    "\n",
    "Load the data stored in the file saxs_data.csv."
   ]
  },
  {
   "cell_type": "code",
   "execution_count": null,
   "id": "1db8fa9b",
   "metadata": {},
   "outputs": [],
   "source": []
  },
  {
   "cell_type": "markdown",
   "id": "f8381589",
   "metadata": {},
   "source": [
    "The radius of gyration is determined in the so-called Guinier zone, which is the beginning of the scattering curve. You may assume, that the maximum $q$ you need to consider is $q=0.01$ nm$^{-1}$. For this range of $q$ you can determine $R_g$ as follows: $$ln(I)=ln(I_0)-\\frac{1}{3}q^2R_g^2$$\n",
    "Based on this information and using the linear regression model from scikit_learn, determine $R_g$."
   ]
  },
  {
   "cell_type": "code",
   "execution_count": null,
   "id": "657ba8a4",
   "metadata": {},
   "outputs": [],
   "source": []
  }
 ],
 "metadata": {
  "kernelspec": {
   "display_name": "Python 3 (ipykernel)",
   "language": "python",
   "name": "python3"
  },
  "language_info": {
   "codemirror_mode": {
    "name": "ipython",
    "version": 3
   },
   "file_extension": ".py",
   "mimetype": "text/x-python",
   "name": "python",
   "nbconvert_exporter": "python",
   "pygments_lexer": "ipython3",
   "version": "3.9.13"
  }
 },
 "nbformat": 4,
 "nbformat_minor": 5
}
